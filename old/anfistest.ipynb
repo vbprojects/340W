{
 "cells": [
  {
   "cell_type": "code",
   "execution_count": 1,
   "metadata": {},
   "outputs": [],
   "source": [
    "import torch\n",
    "import numpy as np\n",
    "from sanfis import SANFIS\n",
    "from sanfis.datagenerators import anfis_generator\n",
    "import sanfis"
   ]
  },
  {
   "cell_type": "code",
   "execution_count": 5,
   "metadata": {},
   "outputs": [
    {
     "name": "stdout",
     "output_type": "stream",
     "text": [
      "Train s-anfis on 1456 samples, validate on 624 samples\n"
     ]
    },
    {
     "name": "stderr",
     "output_type": "stream",
     "text": [
      "Training Loop:   0%|          | 0/200 [00:00<?, ?epochs/s]"
     ]
    },
    {
     "name": "stderr",
     "output_type": "stream",
     "text": [
      "Training Loop:  56%|#####6    | 112.0/200 [01:09<00:54,  1.60epochs/s, train_loss=0.00044, valid_loss=0.00089]\n"
     ]
    },
    {
     "ename": "KeyboardInterrupt",
     "evalue": "",
     "output_type": "error",
     "traceback": [
      "\u001b[1;31m---------------------------------------------------------------------------\u001b[0m",
      "\u001b[1;31mKeyboardInterrupt\u001b[0m                         Traceback (most recent call last)",
      "\u001b[1;32me:\\github\\miniprojects\\algotrading\\anfistest.ipynb Cell 2\u001b[0m line \u001b[0;36m7\n\u001b[0;32m     <a href='vscode-notebook-cell:/e%3A/github/miniprojects/algotrading/anfistest.ipynb#W2sZmlsZQ%3D%3D?line=66'>67</a>\u001b[0m loss_functions \u001b[39m=\u001b[39m torch\u001b[39m.\u001b[39mnn\u001b[39m.\u001b[39mMSELoss(reduction\u001b[39m=\u001b[39m\u001b[39m'\u001b[39m\u001b[39mmean\u001b[39m\u001b[39m'\u001b[39m)\n\u001b[0;32m     <a href='vscode-notebook-cell:/e%3A/github/miniprojects/algotrading/anfistest.ipynb#W2sZmlsZQ%3D%3D?line=68'>69</a>\u001b[0m \u001b[39m# fit model\u001b[39;00m\n\u001b[1;32m---> <a href='vscode-notebook-cell:/e%3A/github/miniprojects/algotrading/anfistest.ipynb#W2sZmlsZQ%3D%3D?line=69'>70</a>\u001b[0m history \u001b[39m=\u001b[39m model\u001b[39m.\u001b[39;49mfit(train_data\u001b[39m=\u001b[39;49m[X_train, y_train],\n\u001b[0;32m     <a href='vscode-notebook-cell:/e%3A/github/miniprojects/algotrading/anfistest.ipynb#W2sZmlsZQ%3D%3D?line=70'>71</a>\u001b[0m                     valid_data\u001b[39m=\u001b[39;49m[X_valid, y_valid],\n\u001b[0;32m     <a href='vscode-notebook-cell:/e%3A/github/miniprojects/algotrading/anfistest.ipynb#W2sZmlsZQ%3D%3D?line=71'>72</a>\u001b[0m                     optimizer\u001b[39m=\u001b[39;49moptimizer,\n\u001b[0;32m     <a href='vscode-notebook-cell:/e%3A/github/miniprojects/algotrading/anfistest.ipynb#W2sZmlsZQ%3D%3D?line=72'>73</a>\u001b[0m                     loss_function\u001b[39m=\u001b[39;49mloss_functions,\n\u001b[0;32m     <a href='vscode-notebook-cell:/e%3A/github/miniprojects/algotrading/anfistest.ipynb#W2sZmlsZQ%3D%3D?line=73'>74</a>\u001b[0m                     epochs\u001b[39m=\u001b[39;49m\u001b[39m200\u001b[39;49m,\n\u001b[0;32m     <a href='vscode-notebook-cell:/e%3A/github/miniprojects/algotrading/anfistest.ipynb#W2sZmlsZQ%3D%3D?line=74'>75</a>\u001b[0m                     )\n\u001b[0;32m     <a href='vscode-notebook-cell:/e%3A/github/miniprojects/algotrading/anfistest.ipynb#W2sZmlsZQ%3D%3D?line=76'>77</a>\u001b[0m \u001b[39m# predict data\u001b[39;00m\n\u001b[0;32m     <a href='vscode-notebook-cell:/e%3A/github/miniprojects/algotrading/anfistest.ipynb#W2sZmlsZQ%3D%3D?line=77'>78</a>\u001b[0m y_pred \u001b[39m=\u001b[39m model\u001b[39m.\u001b[39mpredict(X)\n",
      "File \u001b[1;32mE:\\github\\miniprojects\\algotrading\\S-ANFIS-PyTorch\\sanfis\\sanfis.py:215\u001b[0m, in \u001b[0;36mSANFIS.fit\u001b[1;34m(self, train_data, valid_data, optimizer, loss_function, batch_size, shuffle_batches, epochs, patience, delta, use_tensorboard, logdir, hparams_dict, disable_output)\u001b[0m\n\u001b[0;32m    213\u001b[0m \u001b[39m# forward pass & loss calculation\u001b[39;00m\n\u001b[0;32m    214\u001b[0m train_pred \u001b[39m=\u001b[39m \u001b[39mself\u001b[39m(sb_train, xb_train)\n\u001b[1;32m--> 215\u001b[0m loss \u001b[39m=\u001b[39m loss_function(train_pred, yb_train)\n\u001b[0;32m    216\u001b[0m train_loss\u001b[39m.\u001b[39mappend(loss\u001b[39m.\u001b[39mdetach())\n\u001b[0;32m    217\u001b[0m \u001b[39m# perform backward, update weights, zero gradients\u001b[39;00m\n",
      "File \u001b[1;32mc:\\Users\\bhatn\\AppData\\Local\\Programs\\Python\\Python311\\Lib\\site-packages\\torch\\nn\\modules\\module.py:1518\u001b[0m, in \u001b[0;36mModule._wrapped_call_impl\u001b[1;34m(self, *args, **kwargs)\u001b[0m\n\u001b[0;32m   1516\u001b[0m     \u001b[39mreturn\u001b[39;00m \u001b[39mself\u001b[39m\u001b[39m.\u001b[39m_compiled_call_impl(\u001b[39m*\u001b[39margs, \u001b[39m*\u001b[39m\u001b[39m*\u001b[39mkwargs)  \u001b[39m# type: ignore[misc]\u001b[39;00m\n\u001b[0;32m   1517\u001b[0m \u001b[39melse\u001b[39;00m:\n\u001b[1;32m-> 1518\u001b[0m     \u001b[39mreturn\u001b[39;00m \u001b[39mself\u001b[39;49m\u001b[39m.\u001b[39;49m_call_impl(\u001b[39m*\u001b[39;49margs, \u001b[39m*\u001b[39;49m\u001b[39m*\u001b[39;49mkwargs)\n",
      "File \u001b[1;32mc:\\Users\\bhatn\\AppData\\Local\\Programs\\Python\\Python311\\Lib\\site-packages\\torch\\nn\\modules\\module.py:1527\u001b[0m, in \u001b[0;36mModule._call_impl\u001b[1;34m(self, *args, **kwargs)\u001b[0m\n\u001b[0;32m   1522\u001b[0m \u001b[39m# If we don't have any hooks, we want to skip the rest of the logic in\u001b[39;00m\n\u001b[0;32m   1523\u001b[0m \u001b[39m# this function, and just call forward.\u001b[39;00m\n\u001b[0;32m   1524\u001b[0m \u001b[39mif\u001b[39;00m \u001b[39mnot\u001b[39;00m (\u001b[39mself\u001b[39m\u001b[39m.\u001b[39m_backward_hooks \u001b[39mor\u001b[39;00m \u001b[39mself\u001b[39m\u001b[39m.\u001b[39m_backward_pre_hooks \u001b[39mor\u001b[39;00m \u001b[39mself\u001b[39m\u001b[39m.\u001b[39m_forward_hooks \u001b[39mor\u001b[39;00m \u001b[39mself\u001b[39m\u001b[39m.\u001b[39m_forward_pre_hooks\n\u001b[0;32m   1525\u001b[0m         \u001b[39mor\u001b[39;00m _global_backward_pre_hooks \u001b[39mor\u001b[39;00m _global_backward_hooks\n\u001b[0;32m   1526\u001b[0m         \u001b[39mor\u001b[39;00m _global_forward_hooks \u001b[39mor\u001b[39;00m _global_forward_pre_hooks):\n\u001b[1;32m-> 1527\u001b[0m     \u001b[39mreturn\u001b[39;00m forward_call(\u001b[39m*\u001b[39;49margs, \u001b[39m*\u001b[39;49m\u001b[39m*\u001b[39;49mkwargs)\n\u001b[0;32m   1529\u001b[0m \u001b[39mtry\u001b[39;00m:\n\u001b[0;32m   1530\u001b[0m     result \u001b[39m=\u001b[39m \u001b[39mNone\u001b[39;00m\n",
      "File \u001b[1;32mc:\\Users\\bhatn\\AppData\\Local\\Programs\\Python\\Python311\\Lib\\site-packages\\torch\\nn\\modules\\loss.py:535\u001b[0m, in \u001b[0;36mMSELoss.forward\u001b[1;34m(self, input, target)\u001b[0m\n\u001b[0;32m    534\u001b[0m \u001b[39mdef\u001b[39;00m \u001b[39mforward\u001b[39m(\u001b[39mself\u001b[39m, \u001b[39minput\u001b[39m: Tensor, target: Tensor) \u001b[39m-\u001b[39m\u001b[39m>\u001b[39m Tensor:\n\u001b[1;32m--> 535\u001b[0m     \u001b[39mreturn\u001b[39;00m F\u001b[39m.\u001b[39;49mmse_loss(\u001b[39minput\u001b[39;49m, target, reduction\u001b[39m=\u001b[39;49m\u001b[39mself\u001b[39;49m\u001b[39m.\u001b[39;49mreduction)\n",
      "File \u001b[1;32mc:\\Users\\bhatn\\AppData\\Local\\Programs\\Python\\Python311\\Lib\\site-packages\\torch\\nn\\functional.py:3329\u001b[0m, in \u001b[0;36mmse_loss\u001b[1;34m(input, target, size_average, reduce, reduction)\u001b[0m\n\u001b[0;32m   3326\u001b[0m     reduction \u001b[39m=\u001b[39m _Reduction\u001b[39m.\u001b[39mlegacy_get_string(size_average, reduce)\n\u001b[0;32m   3328\u001b[0m expanded_input, expanded_target \u001b[39m=\u001b[39m torch\u001b[39m.\u001b[39mbroadcast_tensors(\u001b[39minput\u001b[39m, target)\n\u001b[1;32m-> 3329\u001b[0m \u001b[39mreturn\u001b[39;00m torch\u001b[39m.\u001b[39;49m_C\u001b[39m.\u001b[39;49m_nn\u001b[39m.\u001b[39;49mmse_loss(expanded_input, expanded_target, _Reduction\u001b[39m.\u001b[39;49mget_enum(reduction))\n",
      "\u001b[1;31mKeyboardInterrupt\u001b[0m: "
     ]
    }
   ],
   "source": [
    "# Set 4 input variables with 3 gaussian membership functions each\n",
    "MEMBFUNCS = [\n",
    "    {'function': 'gaussian',\n",
    "     'n_memb': 3,\n",
    "     'params': {'mu': {'value': [-0.5, 0.0, 0.5],\n",
    "                       'trainable': True},\n",
    "                'sigma': {'value': [1.0, 1.0, 1.0],\n",
    "                          'trainable': True}}},\n",
    "\n",
    "    {'function': 'gaussian',\n",
    "     'n_memb': 3,\n",
    "     'params': {'mu': {'value': [-0.5, 0.0, 0.5],\n",
    "                       'trainable': True},\n",
    "                'sigma': {'value': [1.0, 1.0, 1.0],\n",
    "                          'trainable': True}}},\n",
    "\n",
    "    {'function': 'gaussian',\n",
    "     'n_memb': 3,\n",
    "     'params': {'mu': {'value': [-0.5, 0.0, 0.5],\n",
    "                       'trainable': True},\n",
    "                'sigma': {'value': [1.0, 1.0, 1.0],\n",
    "                          'trainable': True}}},\n",
    "\n",
    "    {'function': 'gaussian',\n",
    "     'n_memb': 3,\n",
    "     'params': {'mu': {'value': [-0.5, 0.0, 0.5],\n",
    "                       'trainable': True},\n",
    "                'sigma': {'value': [1.0, 1.0, 1.0],\n",
    "                          'trainable': True}}},\n",
    "                          {'function': 'gaussian',\n",
    "     'n_memb': 3,\n",
    "     'params': {'mu': {'value': [-0.5, 0.0, 0.5],\n",
    "                       'trainable': True},\n",
    "                'sigma': {'value': [1.0, 1.0, 1.0],\n",
    "                          'trainable': True}}},\n",
    "                          {'function': 'gaussian',\n",
    "     'n_memb': 3,\n",
    "     'params': {'mu': {'value': [-0.5, 0.0, 0.5],\n",
    "                       'trainable': True},\n",
    "                'sigma': {'value': [1.0, 1.0, 1.0],\n",
    "                          'trainable': True}}},\n",
    "                          {'function': 'gaussian',\n",
    "     'n_memb': 3,\n",
    "     'params': {'mu': {'value': [-0.5, 0.0, 0.5],\n",
    "                       'trainable': True},\n",
    "                'sigma': {'value': [1.0, 1.0, 1.0],\n",
    "                          'trainable': True}}},\n",
    "                          {'function': 'gaussian',\n",
    "     'n_memb': 3,\n",
    "     'params': {'mu': {'value': [-0.5, 0.0, 0.5],\n",
    "                       'trainable': True},\n",
    "                'sigma': {'value': [1.0, 1.0, 1.0],\n",
    "                          'trainable': True}}},\n",
    "\n",
    "]\n",
    "\n",
    "# generate some data (mackey chaotic time series)\n",
    "X, X_train, X_valid, y, y_train, y_valid = anfis_generator.gen_data(data_id='mackey',\n",
    "                                                                  n_obs=2080, n_input=8)\n",
    "                                                                  \n",
    "\n",
    "# create model\n",
    "model = SANFIS(membfuncs=MEMBFUNCS,\n",
    "               n_input=8,\n",
    "               scale='Std', to_device = 'cpu')\n",
    "optimizer = torch.optim.Adam(params=model.parameters())\n",
    "loss_functions = torch.nn.MSELoss(reduction='mean')\n",
    "\n",
    "# fit model\n",
    "history = model.fit(train_data=[X_train, y_train],\n",
    "                    valid_data=[X_valid, y_valid],\n",
    "                    optimizer=optimizer,\n",
    "                    loss_function=loss_functions,\n",
    "                    epochs=200,\n",
    "                    )\n",
    "\n",
    "# predict data\n",
    "y_pred = model.predict(X)"
   ]
  },
  {
   "cell_type": "code",
   "execution_count": null,
   "metadata": {},
   "outputs": [],
   "source": []
  }
 ],
 "metadata": {
  "kernelspec": {
   "display_name": "Python 3",
   "language": "python",
   "name": "python3"
  },
  "language_info": {
   "codemirror_mode": {
    "name": "ipython",
    "version": 3
   },
   "file_extension": ".py",
   "mimetype": "text/x-python",
   "name": "python",
   "nbconvert_exporter": "python",
   "pygments_lexer": "ipython3",
   "version": "3.11.6"
  }
 },
 "nbformat": 4,
 "nbformat_minor": 2
}
